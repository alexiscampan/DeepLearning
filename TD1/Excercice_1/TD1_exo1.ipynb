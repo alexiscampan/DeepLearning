{
 "cells": [
  {
   "cell_type": "code",
   "execution_count": 1,
   "metadata": {},
   "outputs": [],
   "source": [
    "import MLP\n",
    "import pandas as pd"
   ]
  },
  {
   "cell_type": "code",
   "execution_count": 11,
   "metadata": {},
   "outputs": [],
   "source": [
    "# a, b, c\n",
    "# fn => (a and b) or c\n",
    "toy = [[1, 1, 1],  # true\n",
    "       [1, 0, 0],  # false\n",
    "       [0, 0, 0],  # false\n",
    "       [1, 0, 1\n",
    "       [1, 1, 0],  # true\n",
    "       [0, 0, 1],  # true\n",
    "       [0, 1, 1], # true\n",
    "       ]\n",
    "y = [\n",
    "    1,\n",
    "    0,\n",
    "    0,\n",
    "    1,\n",
    "    1,\n",
    "    1,\n",
    "    1\n",
    "]\n",
    "X = pd.DataFrame(toy)\n",
    "\n",
    "X_test = pd.DataFrame([[0,1,0]])\n",
    "y_test = [0]\n"
   ]
  },
  {
   "cell_type": "code",
   "execution_count": 12,
   "metadata": {},
   "outputs": [
    {
     "name": "stdout",
     "output_type": "stream",
     "text": [
      "# SUMMARY : MultiLayerPercetron with architecture : [3, 3, 5, 3, 2, 1]\n"
     ]
    }
   ],
   "source": [
    "# %%\n",
    "mlp = MLP.MutiLayerPerceptron(X, [3, 5, 3, 2, 1])\n"
   ]
  },
  {
   "cell_type": "markdown",
   "metadata": {},
   "source": [
    "Le réseau MLP est maintenant crée. \n",
    "\n",
    "La classe comporte des méthodes pour montrer les Neuronnes par couche ainsi que les connexions (synapses) existantes. \n",
    "\n"
   ]
  },
  {
   "cell_type": "markdown",
   "metadata": {},
   "source": [
    "**Montrer les Neuronnes**"
   ]
  },
  {
   "cell_type": "code",
   "execution_count": 13,
   "metadata": {},
   "outputs": [
    {
     "name": "stdout",
     "output_type": "stream",
     "text": [
      "We will see that none of the Nodes in Layer 0 is the output node of a synapse (No previous synapses)\n",
      "\n",
      "\n",
      "We will see that none of the Nodes in the last layer is the input to further synapses (No further synapses)\n",
      "\n",
      "\n",
      "\n",
      "\n",
      "Connected Neurons layer 0\n",
      "Node Neuron00(-0.9) is in for  Synapse from Neuron00(-0.9) to Neuron10(-0.8)\n",
      "Node Neuron00(-0.9) is in for  Synapse from Neuron00(-0.9) to Neuron11(-0.5)\n",
      "Node Neuron00(-0.9) is in for  Synapse from Neuron00(-0.9) to Neuron12(0.1)\n",
      "Node Neuron01(0.2) is in for  Synapse from Neuron01(0.2) to Neuron10(-0.8)\n",
      "Node Neuron01(0.2) is in for  Synapse from Neuron01(0.2) to Neuron11(-0.5)\n",
      "Node Neuron01(0.2) is in for  Synapse from Neuron01(0.2) to Neuron12(0.1)\n",
      "Node Neuron02(-1.0) is in for  Synapse from Neuron02(-1.0) to Neuron10(-0.8)\n",
      "Node Neuron02(-1.0) is in for  Synapse from Neuron02(-1.0) to Neuron11(-0.5)\n",
      "Node Neuron02(-1.0) is in for  Synapse from Neuron02(-1.0) to Neuron12(0.1)\n",
      "\n",
      "\n",
      "Connected Neurons layer 1\n",
      "Node Neuron10(-0.8) is in for  Synapse from Neuron10(-0.8) to Neuron20(-0.8)\n",
      "Node Neuron10(-0.8) is in for  Synapse from Neuron10(-0.8) to Neuron21(-0.5)\n",
      "Node Neuron10(-0.8) is in for  Synapse from Neuron10(-0.8) to Neuron22(0.0)\n",
      "Node Neuron10(-0.8) is in for  Synapse from Neuron10(-0.8) to Neuron23(1.0)\n",
      "Node Neuron10(-0.8) is in for  Synapse from Neuron10(-0.8) to Neuron24(0.5)\n",
      "Node Neuron11(-0.5) is in for  Synapse from Neuron11(-0.5) to Neuron20(-0.8)\n",
      "Node Neuron11(-0.5) is in for  Synapse from Neuron11(-0.5) to Neuron21(-0.5)\n",
      "Node Neuron11(-0.5) is in for  Synapse from Neuron11(-0.5) to Neuron22(0.0)\n",
      "Node Neuron11(-0.5) is in for  Synapse from Neuron11(-0.5) to Neuron23(1.0)\n",
      "Node Neuron11(-0.5) is in for  Synapse from Neuron11(-0.5) to Neuron24(0.5)\n",
      "Node Neuron12(0.1) is in for  Synapse from Neuron12(0.1) to Neuron20(-0.8)\n",
      "Node Neuron12(0.1) is in for  Synapse from Neuron12(0.1) to Neuron21(-0.5)\n",
      "Node Neuron12(0.1) is in for  Synapse from Neuron12(0.1) to Neuron22(0.0)\n",
      "Node Neuron12(0.1) is in for  Synapse from Neuron12(0.1) to Neuron23(1.0)\n",
      "Node Neuron12(0.1) is in for  Synapse from Neuron12(0.1) to Neuron24(0.5)\n",
      "Node Neuron10(-0.8) is out for Synapse from Neuron00(-0.9) to Neuron10(-0.8)\n",
      "Node Neuron10(-0.8) is out for Synapse from Neuron01(0.2) to Neuron10(-0.8)\n",
      "Node Neuron10(-0.8) is out for Synapse from Neuron02(-1.0) to Neuron10(-0.8)\n",
      "Node Neuron11(-0.5) is out for Synapse from Neuron00(-0.9) to Neuron11(-0.5)\n",
      "Node Neuron11(-0.5) is out for Synapse from Neuron01(0.2) to Neuron11(-0.5)\n",
      "Node Neuron11(-0.5) is out for Synapse from Neuron02(-1.0) to Neuron11(-0.5)\n",
      "Node Neuron12(0.1) is out for Synapse from Neuron00(-0.9) to Neuron12(0.1)\n",
      "Node Neuron12(0.1) is out for Synapse from Neuron01(0.2) to Neuron12(0.1)\n",
      "Node Neuron12(0.1) is out for Synapse from Neuron02(-1.0) to Neuron12(0.1)\n",
      "\n",
      "\n",
      "Connected Neurons layer 2\n",
      "Node Neuron20(-0.8) is in for  Synapse from Neuron20(-0.8) to Neuron30(0.6)\n",
      "Node Neuron20(-0.8) is in for  Synapse from Neuron20(-0.8) to Neuron31(0.8)\n",
      "Node Neuron20(-0.8) is in for  Synapse from Neuron20(-0.8) to Neuron32(0.9)\n",
      "Node Neuron21(-0.5) is in for  Synapse from Neuron21(-0.5) to Neuron30(0.6)\n",
      "Node Neuron21(-0.5) is in for  Synapse from Neuron21(-0.5) to Neuron31(0.8)\n",
      "Node Neuron21(-0.5) is in for  Synapse from Neuron21(-0.5) to Neuron32(0.9)\n",
      "Node Neuron22(0.0) is in for  Synapse from Neuron22(0.0) to Neuron30(0.6)\n",
      "Node Neuron22(0.0) is in for  Synapse from Neuron22(0.0) to Neuron31(0.8)\n",
      "Node Neuron22(0.0) is in for  Synapse from Neuron22(0.0) to Neuron32(0.9)\n",
      "Node Neuron23(1.0) is in for  Synapse from Neuron23(1.0) to Neuron30(0.6)\n",
      "Node Neuron23(1.0) is in for  Synapse from Neuron23(1.0) to Neuron31(0.8)\n",
      "Node Neuron23(1.0) is in for  Synapse from Neuron23(1.0) to Neuron32(0.9)\n",
      "Node Neuron24(0.5) is in for  Synapse from Neuron24(0.5) to Neuron30(0.6)\n",
      "Node Neuron24(0.5) is in for  Synapse from Neuron24(0.5) to Neuron31(0.8)\n",
      "Node Neuron24(0.5) is in for  Synapse from Neuron24(0.5) to Neuron32(0.9)\n",
      "Node Neuron20(-0.8) is out for Synapse from Neuron10(-0.8) to Neuron20(-0.8)\n",
      "Node Neuron20(-0.8) is out for Synapse from Neuron11(-0.5) to Neuron20(-0.8)\n",
      "Node Neuron20(-0.8) is out for Synapse from Neuron12(0.1) to Neuron20(-0.8)\n",
      "Node Neuron21(-0.5) is out for Synapse from Neuron10(-0.8) to Neuron21(-0.5)\n",
      "Node Neuron21(-0.5) is out for Synapse from Neuron11(-0.5) to Neuron21(-0.5)\n",
      "Node Neuron21(-0.5) is out for Synapse from Neuron12(0.1) to Neuron21(-0.5)\n",
      "Node Neuron22(0.0) is out for Synapse from Neuron10(-0.8) to Neuron22(0.0)\n",
      "Node Neuron22(0.0) is out for Synapse from Neuron11(-0.5) to Neuron22(0.0)\n",
      "Node Neuron22(0.0) is out for Synapse from Neuron12(0.1) to Neuron22(0.0)\n",
      "Node Neuron23(1.0) is out for Synapse from Neuron10(-0.8) to Neuron23(1.0)\n",
      "Node Neuron23(1.0) is out for Synapse from Neuron11(-0.5) to Neuron23(1.0)\n",
      "Node Neuron23(1.0) is out for Synapse from Neuron12(0.1) to Neuron23(1.0)\n",
      "Node Neuron24(0.5) is out for Synapse from Neuron10(-0.8) to Neuron24(0.5)\n",
      "Node Neuron24(0.5) is out for Synapse from Neuron11(-0.5) to Neuron24(0.5)\n",
      "Node Neuron24(0.5) is out for Synapse from Neuron12(0.1) to Neuron24(0.5)\n",
      "\n",
      "\n",
      "Connected Neurons layer 3\n",
      "Node Neuron30(0.6) is in for  Synapse from Neuron30(0.6) to Neuron40(0.7)\n",
      "Node Neuron30(0.6) is in for  Synapse from Neuron30(0.6) to Neuron41(0.9)\n",
      "Node Neuron31(0.8) is in for  Synapse from Neuron31(0.8) to Neuron40(0.7)\n",
      "Node Neuron31(0.8) is in for  Synapse from Neuron31(0.8) to Neuron41(0.9)\n",
      "Node Neuron32(0.9) is in for  Synapse from Neuron32(0.9) to Neuron40(0.7)\n",
      "Node Neuron32(0.9) is in for  Synapse from Neuron32(0.9) to Neuron41(0.9)\n",
      "Node Neuron30(0.6) is out for Synapse from Neuron20(-0.8) to Neuron30(0.6)\n",
      "Node Neuron30(0.6) is out for Synapse from Neuron21(-0.5) to Neuron30(0.6)\n",
      "Node Neuron30(0.6) is out for Synapse from Neuron22(0.0) to Neuron30(0.6)\n",
      "Node Neuron30(0.6) is out for Synapse from Neuron23(1.0) to Neuron30(0.6)\n",
      "Node Neuron30(0.6) is out for Synapse from Neuron24(0.5) to Neuron30(0.6)\n",
      "Node Neuron31(0.8) is out for Synapse from Neuron20(-0.8) to Neuron31(0.8)\n",
      "Node Neuron31(0.8) is out for Synapse from Neuron21(-0.5) to Neuron31(0.8)\n",
      "Node Neuron31(0.8) is out for Synapse from Neuron22(0.0) to Neuron31(0.8)\n",
      "Node Neuron31(0.8) is out for Synapse from Neuron23(1.0) to Neuron31(0.8)\n",
      "Node Neuron31(0.8) is out for Synapse from Neuron24(0.5) to Neuron31(0.8)\n",
      "Node Neuron32(0.9) is out for Synapse from Neuron20(-0.8) to Neuron32(0.9)\n",
      "Node Neuron32(0.9) is out for Synapse from Neuron21(-0.5) to Neuron32(0.9)\n",
      "Node Neuron32(0.9) is out for Synapse from Neuron22(0.0) to Neuron32(0.9)\n",
      "Node Neuron32(0.9) is out for Synapse from Neuron23(1.0) to Neuron32(0.9)\n",
      "Node Neuron32(0.9) is out for Synapse from Neuron24(0.5) to Neuron32(0.9)\n",
      "\n",
      "\n",
      "Connected Neurons layer 4\n",
      "Node Neuron40(0.7) is in for  Synapse from Neuron40(0.7) to Neuron50(0.0)\n",
      "Node Neuron41(0.9) is in for  Synapse from Neuron41(0.9) to Neuron50(0.0)\n",
      "Node Neuron40(0.7) is out for Synapse from Neuron30(0.6) to Neuron40(0.7)\n",
      "Node Neuron40(0.7) is out for Synapse from Neuron31(0.8) to Neuron40(0.7)\n",
      "Node Neuron40(0.7) is out for Synapse from Neuron32(0.9) to Neuron40(0.7)\n",
      "Node Neuron41(0.9) is out for Synapse from Neuron30(0.6) to Neuron41(0.9)\n",
      "Node Neuron41(0.9) is out for Synapse from Neuron31(0.8) to Neuron41(0.9)\n",
      "Node Neuron41(0.9) is out for Synapse from Neuron32(0.9) to Neuron41(0.9)\n",
      "\n",
      "\n",
      "Connected Neurons layer 5\n",
      "Node Neuron50(0.0) is out for Synapse from Neuron40(0.7) to Neuron50(0.0)\n",
      "Node Neuron50(0.0) is out for Synapse from Neuron41(0.9) to Neuron50(0.0)\n"
     ]
    }
   ],
   "source": [
    "# PROVE NEURONS\n",
    "mlp.prove_neurons()"
   ]
  },
  {
   "cell_type": "markdown",
   "metadata": {},
   "source": [
    "**Montrer les Synapses**"
   ]
  },
  {
   "cell_type": "code",
   "execution_count": 14,
   "metadata": {},
   "outputs": [
    {
     "name": "stdout",
     "output_type": "stream",
     "text": [
      "\n",
      "\n",
      "Connections layer 0 to 1\n",
      "Synapse from Neuron00(-0.9) to Neuron10(-0.8)\n",
      "Synapse from Neuron01(0.2) to Neuron10(-0.8)\n",
      "Synapse from Neuron02(-1.0) to Neuron10(-0.8)\n",
      "Synapse from Neuron00(-0.9) to Neuron11(-0.5)\n",
      "Synapse from Neuron01(0.2) to Neuron11(-0.5)\n",
      "Synapse from Neuron02(-1.0) to Neuron11(-0.5)\n",
      "Synapse from Neuron00(-0.9) to Neuron12(0.1)\n",
      "Synapse from Neuron01(0.2) to Neuron12(0.1)\n",
      "Synapse from Neuron02(-1.0) to Neuron12(0.1)\n",
      "\n",
      "\n",
      "Connections layer 1 to 2\n",
      "Synapse from Neuron10(-0.8) to Neuron20(-0.8)\n",
      "Synapse from Neuron11(-0.5) to Neuron20(-0.8)\n",
      "Synapse from Neuron12(0.1) to Neuron20(-0.8)\n",
      "Synapse from Neuron10(-0.8) to Neuron21(-0.5)\n",
      "Synapse from Neuron11(-0.5) to Neuron21(-0.5)\n",
      "Synapse from Neuron12(0.1) to Neuron21(-0.5)\n",
      "Synapse from Neuron10(-0.8) to Neuron22(0.0)\n",
      "Synapse from Neuron11(-0.5) to Neuron22(0.0)\n",
      "Synapse from Neuron12(0.1) to Neuron22(0.0)\n",
      "Synapse from Neuron10(-0.8) to Neuron23(1.0)\n",
      "Synapse from Neuron11(-0.5) to Neuron23(1.0)\n",
      "Synapse from Neuron12(0.1) to Neuron23(1.0)\n",
      "Synapse from Neuron10(-0.8) to Neuron24(0.5)\n",
      "Synapse from Neuron11(-0.5) to Neuron24(0.5)\n",
      "Synapse from Neuron12(0.1) to Neuron24(0.5)\n",
      "\n",
      "\n",
      "Connections layer 2 to 3\n",
      "Synapse from Neuron20(-0.8) to Neuron30(0.6)\n",
      "Synapse from Neuron21(-0.5) to Neuron30(0.6)\n",
      "Synapse from Neuron22(0.0) to Neuron30(0.6)\n",
      "Synapse from Neuron23(1.0) to Neuron30(0.6)\n",
      "Synapse from Neuron24(0.5) to Neuron30(0.6)\n",
      "Synapse from Neuron20(-0.8) to Neuron31(0.8)\n",
      "Synapse from Neuron21(-0.5) to Neuron31(0.8)\n",
      "Synapse from Neuron22(0.0) to Neuron31(0.8)\n",
      "Synapse from Neuron23(1.0) to Neuron31(0.8)\n",
      "Synapse from Neuron24(0.5) to Neuron31(0.8)\n",
      "Synapse from Neuron20(-0.8) to Neuron32(0.9)\n",
      "Synapse from Neuron21(-0.5) to Neuron32(0.9)\n",
      "Synapse from Neuron22(0.0) to Neuron32(0.9)\n",
      "Synapse from Neuron23(1.0) to Neuron32(0.9)\n",
      "Synapse from Neuron24(0.5) to Neuron32(0.9)\n",
      "\n",
      "\n",
      "Connections layer 3 to 4\n",
      "Synapse from Neuron30(0.6) to Neuron40(0.7)\n",
      "Synapse from Neuron31(0.8) to Neuron40(0.7)\n",
      "Synapse from Neuron32(0.9) to Neuron40(0.7)\n",
      "Synapse from Neuron30(0.6) to Neuron41(0.9)\n",
      "Synapse from Neuron31(0.8) to Neuron41(0.9)\n",
      "Synapse from Neuron32(0.9) to Neuron41(0.9)\n",
      "\n",
      "\n",
      "Connections layer 4 to 5\n",
      "Synapse from Neuron40(0.7) to Neuron50(0.0)\n",
      "Synapse from Neuron41(0.9) to Neuron50(0.0)\n"
     ]
    }
   ],
   "source": [
    "mlp.prove_synapses()"
   ]
  },
  {
   "cell_type": "markdown",
   "metadata": {},
   "source": [
    "## Entrainement\n",
    "\n",
    "Nous allons entraîner notre modèle avec le *toy* example du *and* suivi du *or*. \n",
    "La classe fait du \"Early stop\" toute seule. "
   ]
  },
  {
   "cell_type": "code",
   "execution_count": 15,
   "metadata": {},
   "outputs": [
    {
     "name": "stdout",
     "output_type": "stream",
     "text": [
      "Epoch 0. line : 0 Pred : 1  Target : 1\n",
      "Epoch 0. line : 1 Pred : 1  Target : 0\n",
      "Epoch 0. line : 2 Pred : 0  Target : 0\n",
      "Epoch 0. line : 3 Pred : 1  Target : 1\n",
      "Epoch 0. line : 4 Pred : 1  Target : 1\n",
      "Epoch 0. line : 5 Pred : 1  Target : 1\n",
      "Epoch 0. line : 6 Pred : 0  Target : 1\n",
      "Absolute Loss 0.2857142857142857\n",
      "\n",
      "\n",
      "Epoch 1. line : 0 Pred : 1  Target : 1\n",
      "Epoch 1. line : 1 Pred : 1  Target : 0\n",
      "Epoch 1. line : 2 Pred : 0  Target : 0\n",
      "Epoch 1. line : 3 Pred : 1  Target : 1\n",
      "Epoch 1. line : 4 Pred : 1  Target : 1\n",
      "Epoch 1. line : 5 Pred : 1  Target : 1\n",
      "Epoch 1. line : 6 Pred : 0  Target : 1\n",
      "Absolute Loss 0.2857142857142857\n",
      "\n",
      "\n",
      "Epoch 2. line : 0 Pred : 1  Target : 1\n",
      "Epoch 2. line : 1 Pred : 1  Target : 0\n",
      "Epoch 2. line : 2 Pred : 0  Target : 0\n",
      "Epoch 2. line : 3 Pred : 1  Target : 1\n",
      "Epoch 2. line : 4 Pred : 1  Target : 1\n",
      "Epoch 2. line : 5 Pred : 1  Target : 1\n",
      "Epoch 2. line : 6 Pred : 1  Target : 1\n",
      "Absolute Loss 0.14285714285714285\n",
      "\n",
      "\n",
      "Epoch 3. line : 0 Pred : 1  Target : 1\n",
      "Epoch 3. line : 1 Pred : 1  Target : 0\n",
      "Epoch 3. line : 2 Pred : 0  Target : 0\n",
      "Epoch 3. line : 3 Pred : 1  Target : 1\n",
      "Epoch 3. line : 4 Pred : 1  Target : 1\n",
      "Epoch 3. line : 5 Pred : 1  Target : 1\n",
      "Epoch 3. line : 6 Pred : 1  Target : 1\n",
      "Absolute Loss 0.14285714285714285\n",
      "\n",
      "\n",
      "Epoch 4. line : 0 Pred : 1  Target : 1\n",
      "Epoch 4. line : 1 Pred : 1  Target : 0\n",
      "Epoch 4. line : 2 Pred : 0  Target : 0\n",
      "Epoch 4. line : 3 Pred : 1  Target : 1\n",
      "Epoch 4. line : 4 Pred : 1  Target : 1\n",
      "Epoch 4. line : 5 Pred : 1  Target : 1\n",
      "Epoch 4. line : 6 Pred : 1  Target : 1\n",
      "Absolute Loss 0.14285714285714285\n",
      "\n",
      "\n",
      "Epoch 5. line : 0 Pred : 1  Target : 1\n",
      "Epoch 5. line : 1 Pred : 0  Target : 0\n",
      "Epoch 5. line : 2 Pred : 0  Target : 0\n",
      "Epoch 5. line : 3 Pred : 1  Target : 1\n",
      "Epoch 5. line : 4 Pred : 1  Target : 1\n",
      "Epoch 5. line : 5 Pred : 1  Target : 1\n",
      "Epoch 5. line : 6 Pred : 1  Target : 1\n",
      "Absolute Loss 0.0\n",
      "\n",
      "\n"
     ]
    }
   ],
   "source": [
    "l = mlp.train(X,y, epochs=30)\n"
   ]
  },
  {
   "cell_type": "code",
   "execution_count": 27,
   "metadata": {},
   "outputs": [
    {
     "data": {
      "text/plain": [
       "[1]"
      ]
     },
     "execution_count": 27,
     "metadata": {},
     "output_type": "execute_result"
    }
   ],
   "source": [
    "mlp.predict(pd.DataFrame([[0,1,0]]))"
   ]
  },
  {
   "cell_type": "code",
   "execution_count": 17,
   "metadata": {},
   "outputs": [
    {
     "data": {
      "text/html": [
       "<div>\n",
       "<style scoped>\n",
       "    .dataframe tbody tr th:only-of-type {\n",
       "        vertical-align: middle;\n",
       "    }\n",
       "\n",
       "    .dataframe tbody tr th {\n",
       "        vertical-align: top;\n",
       "    }\n",
       "\n",
       "    .dataframe thead th {\n",
       "        text-align: right;\n",
       "    }\n",
       "</style>\n",
       "<table border=\"1\" class=\"dataframe\">\n",
       "  <thead>\n",
       "    <tr style=\"text-align: right;\">\n",
       "      <th></th>\n",
       "      <th>0</th>\n",
       "      <th>1</th>\n",
       "      <th>2</th>\n",
       "    </tr>\n",
       "  </thead>\n",
       "  <tbody>\n",
       "    <tr>\n",
       "      <th>0</th>\n",
       "      <td>0</td>\n",
       "      <td>1</td>\n",
       "      <td>0</td>\n",
       "    </tr>\n",
       "  </tbody>\n",
       "</table>\n",
       "</div>"
      ],
      "text/plain": [
       "   0  1  2\n",
       "0  0  1  0"
      ]
     },
     "execution_count": 17,
     "metadata": {},
     "output_type": "execute_result"
    }
   ],
   "source": [
    "X_test"
   ]
  },
  {
   "cell_type": "code",
   "execution_count": null,
   "metadata": {},
   "outputs": [],
   "source": []
  }
 ],
 "metadata": {
  "kernelspec": {
   "display_name": "Python 3.8.10 64-bit",
   "language": "python",
   "name": "python3"
  },
  "language_info": {
   "codemirror_mode": {
    "name": "ipython",
    "version": 3
   },
   "file_extension": ".py",
   "mimetype": "text/x-python",
   "name": "python",
   "nbconvert_exporter": "python",
   "pygments_lexer": "ipython3",
   "version": "3.8.10"
  },
  "orig_nbformat": 4,
  "vscode": {
   "interpreter": {
    "hash": "916dbcbb3f70747c44a77c7bcd40155683ae19c65e1c03b4aa3499c5328201f1"
   }
  }
 },
 "nbformat": 4,
 "nbformat_minor": 2
}
