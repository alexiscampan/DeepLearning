{
 "cells": [
  {
   "cell_type": "markdown",
   "metadata": {},
   "source": [
    "# Exercice 4 – Adapter un réseau à un problème donné"
   ]
  },
  {
   "cell_type": "markdown",
   "metadata": {},
   "source": [
    "1) Charger le dataset MNist et visualiser les données chargées. Affichez les premières\n",
    "images du jeu de données. Que contient ce dataset et quel est son objectif ?"
   ]
  },
  {
   "cell_type": "code",
   "execution_count": 9,
   "metadata": {},
   "outputs": [],
   "source": [
    "import pandas as pd \n",
    "from sklearn import datasets\n",
    "import tensorflow as tf\n",
    "mnist = datasets.load_digits()\n",
    "Y = mnist.target"
   ]
  },
  {
   "cell_type": "markdown",
   "metadata": {},
   "source": [
    "**Modified National Institute of Standards and Technology**\n",
    "\n",
    "This dataset contains images of written digits (8x8 pixels compression, the original MNIST made by Yann Lecun has images of size 28*28). The digits are numbers going from 0 to 9. \n",
    "\n",
    "In the original dataset, the train data comes from the American Sensus Bureau and the test data comes American high school students.  \n"
   ]
  },
  {
   "cell_type": "code",
   "execution_count": 10,
   "metadata": {},
   "outputs": [
    {
     "data": {
      "image/png": "[encoded data removed]",
      "text/plain": [
       "<Figure size 432x288 with 1 Axes>"
      ]
     },
     "metadata": {
      "needs_background": "light"
     },
     "output_type": "display_data"
    },
    {
     "data": {
      "image/png": "[encoded data removed]",
      "text/plain": [
       "<Figure size 432x288 with 1 Axes>"
      ]
     },
     "metadata": {
      "needs_background": "light"
     },
     "output_type": "display_data"
    },
    {
     "data": {
      "image/png": "[encoded data removed]",
      "text/plain": [
       "<Figure size 432x288 with 1 Axes>"
      ]
     },
     "metadata": {
      "needs_background": "light"
     },
     "output_type": "display_data"
    },
    {
     "data": {
      "image/png": "[encoded data removed]",
      "text/plain": [
       "<Figure size 432x288 with 1 Axes>"
      ]
     },
     "metadata": {
      "needs_background": "light"
     },
     "output_type": "display_data"
    }
   ],
   "source": [
    "# EXEMPLES\n",
    "import matplotlib.pyplot as plt\n",
    "# images of the first digits\n",
    "for x in range(0,4):\n",
    "    plt.imshow(mnist.images[x])\n",
    "    plt.show()"
   ]
  },
  {
   "cell_type": "markdown",
   "metadata": {},
   "source": [
    "2) Modifier les données pour : </br>\n",
    "a. Linéariser les données en deux dimensions.\n",
    "\n",
    "\n",
    "Notre réseau *dense* n'accepte que des vecteurs en entrée, nous devons donc applatir la matrice (8x8) en un vecteur (64,)"
   ]
  },
  {
   "cell_type": "code",
   "execution_count": 11,
   "metadata": {},
   "outputs": [],
   "source": [
    "n_samples = len(mnist.images)\n",
    "X = mnist.images.reshape((n_samples, -1))"
   ]
  },
  {
   "cell_type": "markdown",
   "metadata": {},
   "source": [
    "b. Normaliser les données"
   ]
  },
  {
   "cell_type": "markdown",
   "metadata": {},
   "source": [
    "Nous appliquons une standardisation classique (variable centrée et reduite).\n",
    "\n",
    "D'abord nous effectuons un *split* du jeu d'entrainement et du jeu de test. \n",
    "\n",
    "Ensuite, nous entraînons la classe du *scaler*, ainsi les paramètres (moyenne et std) seront ceux du jeu de d'entraînement. "
   ]
  },
  {
   "cell_type": "code",
   "execution_count": 12,
   "metadata": {},
   "outputs": [
    {
     "name": "stdout",
     "output_type": "stream",
     "text": [
      "X train shape  (1347, 64)\n",
      "X test shape  (450, 64)\n",
      "Y train shape  (1347,)\n",
      "Y test shape  (450,)\n"
     ]
    }
   ],
   "source": [
    "# SPLIT ------\n",
    "from sklearn.model_selection import train_test_split\n",
    "# split the dataset\n",
    "X_train, X_test, Y_train, Y_test = train_test_split(X, Y, test_size=0.25, random_state=1234)\n",
    "\n",
    "# shapes\n",
    "print(\"X train shape \",X_train.shape)\n",
    "print(\"X test shape \",X_test.shape)\n",
    "print(\"Y train shape \",Y_train.shape)\n",
    "print(\"Y test shape \",Y_test.shape)\n",
    "\n",
    "# SCALE ------\n",
    "\n",
    "from sklearn.preprocessing import StandardScaler\n",
    "scal = StandardScaler()\n",
    "X_train = scal.fit_transform(X_train)\n",
    "X_test = scal.transform(X_test)\n"
   ]
  },
  {
   "cell_type": "markdown",
   "metadata": {},
   "source": [
    "We use StandardScaler in order to normalize our data"
   ]
  },
  {
   "cell_type": "markdown",
   "metadata": {},
   "source": [
    "c. Transformer le vecteur de classes pour qu'il soit utilisable par un réseau de\n",
    "neurones."
   ]
  },
  {
   "cell_type": "code",
   "execution_count": 13,
   "metadata": {},
   "outputs": [],
   "source": [
    "Y_train  = tf.keras.utils.to_categorical(Y_train, num_classes = 10)\n",
    "Y_test  = tf.keras.utils.to_categorical(Y_test, num_classes = 10)"
   ]
  },
  {
   "cell_type": "markdown",
   "metadata": {},
   "source": [
    "3) Entraîner l'architecture de l'exercice précédent à ce nouveau problème. Attention à la\n",
    "taille des couches d'entrée et de sortie !"
   ]
  },
  {
   "cell_type": "code",
   "execution_count": 14,
   "metadata": {},
   "outputs": [
    {
     "name": "stdout",
     "output_type": "stream",
     "text": [
      "Model: \"sequential_1\"\n",
      "_________________________________________________________________\n",
      "Layer (type)                 Output Shape              Param #   \n",
      "=================================================================\n",
      "dense_2 (Dense)              (None, 16)                1040      \n",
      "_________________________________________________________________\n",
      "dense_3 (Dense)              (None, 10)                170       \n",
      "=================================================================\n",
      "Total params: 1,210\n",
      "Trainable params: 1,210\n",
      "Non-trainable params: 0\n",
      "_________________________________________________________________\n"
     ]
    }
   ],
   "source": [
    "# we fix the random state\n",
    "tf.random.set_seed(1234)\n",
    "\n",
    "# Definition of our model\n",
    "model = tf.keras.models.Sequential([\n",
    "    tf.keras.layers.Input(shape=X_train.shape[1:]),\n",
    "    tf.keras.layers.Dense(16, activation=\"sigmoid\"),\n",
    "    tf.keras.layers.Dense(10, activation=\"softmax\"),\n",
    "])\n",
    "\n",
    "# optimizer definition\n",
    "optimizer = tf.keras.optimizers.Adam(learning_rate=0.001)\n",
    "model.compile(loss=\"categorical_crossentropy\", optimizer=optimizer, metrics=[\"accuracy\"])\n",
    "model.summary()"
   ]
  },
  {
   "cell_type": "code",
   "execution_count": 15,
   "metadata": {},
   "outputs": [],
   "source": [
    "# training\n",
    "history = model.fit(X_train, Y_train,validation_split=0.1, epochs=100, verbose=False)"
   ]
  },
  {
   "cell_type": "code",
   "execution_count": 16,
   "metadata": {},
   "outputs": [
    {
     "data": {
      "image/png": "[encoded data removed]",
      "text/plain": [
       "<Figure size 576x360 with 1 Axes>"
      ]
     },
     "metadata": {
      "needs_background": "light"
     },
     "output_type": "display_data"
    }
   ],
   "source": [
    "import matplotlib.pyplot as plt\n",
    "# plot loss vs val_loss to avoid overfitting\n",
    "pd.DataFrame(history.history).drop([\"accuracy\", \"val_accuracy\"], axis=1).plot(figsize=(8,5))\n",
    "plt.show()"
   ]
  },
  {
   "cell_type": "code",
   "execution_count": 17,
   "metadata": {},
   "outputs": [
    {
     "name": "stdout",
     "output_type": "stream",
     "text": [
      "results:\n",
      "accuracy: 0.96222\n"
     ]
    }
   ],
   "source": [
    "from sklearn.metrics import accuracy_score\n",
    "print('results:')\n",
    "print('accuracy: {:2.5}'.format(accuracy_score(model.predict(X_test).argmax(axis=1), Y_test.argmax(axis=1))))"
   ]
  },
  {
   "cell_type": "markdown",
   "metadata": {},
   "source": [
    "Our previous model is very accurate on this dataset, by just changing the input and output shapes."
   ]
  },
  {
   "cell_type": "markdown",
   "metadata": {},
   "source": [
    "4) Entraîner le réseau de quelques epochs avec une taille de batch de 128. Observez le\n",
    "score du réseau. Que pensez-vous de ce résultat ?"
   ]
  },
  {
   "cell_type": "code",
   "execution_count": 18,
   "metadata": {},
   "outputs": [
    {
     "data": {
      "image/png": "[encoded data removed]",
      "text/plain": [
       "<Figure size 576x360 with 1 Axes>"
      ]
     },
     "metadata": {
      "needs_background": "light"
     },
     "output_type": "display_data"
    }
   ],
   "source": [
    "# we fix the random state\n",
    "tf.random.set_seed(1234)\n",
    "\n",
    "# Definition of our model\n",
    "model = tf.keras.models.Sequential([\n",
    "    tf.keras.layers.Input(shape=X_train.shape[1:]),\n",
    "    tf.keras.layers.Dense(16, activation=\"sigmoid\"),\n",
    "    tf.keras.layers.Dense(10, activation=\"softmax\"),\n",
    "])\n",
    "\n",
    "# optimizer definition\n",
    "optimizer = tf.keras.optimizers.Adam(learning_rate=0.001)\n",
    "model.compile(loss=\"categorical_crossentropy\", optimizer=optimizer, metrics=[\"accuracy\"])\n",
    "\n",
    "# training\n",
    "model.fit(X_train, Y_train,validation_split=0.1,batch_size=128, epochs=100, verbose=False)\n",
    "\n",
    "# plot loss vs val_loss to avoid overfitting\n",
    "pd.DataFrame(history.history).drop([\"accuracy\", \"val_accuracy\"], axis=1).plot(figsize=(8,5))\n",
    "plt.show()"
   ]
  },
  {
   "cell_type": "code",
   "execution_count": 19,
   "metadata": {},
   "outputs": [
    {
     "name": "stdout",
     "output_type": "stream",
     "text": [
      "results:\n",
      "accuracy: 0.95111\n"
     ]
    }
   ],
   "source": [
    "print('results:')\n",
    "print('accuracy: {:2.5}'.format(accuracy_score(model.predict(X_test).argmax(axis=1), Y_test.argmax(axis=1))))"
   ]
  },
  {
   "cell_type": "markdown",
   "metadata": {},
   "source": [
    "By default batch_size = 32, we can expect that when we increase the batch size, the accuracy will increase. </br>\n",
    "In this case the accuracy is decreasing (1% difference). </br>\n",
    "Batch_size are often defined based on your power of calculation, for big datasets of images we prefer using small batch_size because of performances. </br>\n",
    "In our case there is no performance limitation because it's a small dataset, but sometimes you will have better results using smaller batch_size than to take all at once."
   ]
  }
 ],
 "metadata": {
  "kernelspec": {
   "display_name": "Python 3.9.7 64-bit",
   "language": "python",
   "name": "python3"
  },
  "language_info": {
   "codemirror_mode": {
    "name": "ipython",
    "version": 3
   },
   "file_extension": ".py",
   "mimetype": "text/x-python",
   "name": "python",
   "nbconvert_exporter": "python",
   "pygments_lexer": "ipython3",
   "version": "3.9.7"
  },
  "orig_nbformat": 4,
  "vscode": {
   "interpreter": {
    "hash": "11938c6bc6919ae2720b4d5011047913343b08a43b18698fd82dedb0d4417594"
   }
  }
 },
 "nbformat": 4,
 "nbformat_minor": 2
}
